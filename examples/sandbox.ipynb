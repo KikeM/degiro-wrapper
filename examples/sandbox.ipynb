{
 "cells": [
  {
   "cell_type": "code",
   "execution_count": 1,
   "metadata": {
    "extensions": {
     "jupyter_dashboards": {
      "version": 1,
      "views": {
       "grid_default": {},
       "report_default": {
        "hidden": false
       }
      }
     }
    }
   },
   "outputs": [
    {
     "name": "stderr",
     "output_type": "stream",
     "text": [
      "100%|██████████| 139/139 [00:00<00:00, 11071.18it/s]\n"
     ]
    },
    {
     "data": {
      "text/html": [
       "<div>\n",
       "<style scoped>\n",
       "    .dataframe tbody tr th:only-of-type {\n",
       "        vertical-align: middle;\n",
       "    }\n",
       "\n",
       "    .dataframe tbody tr th {\n",
       "        vertical-align: top;\n",
       "    }\n",
       "\n",
       "    .dataframe thead th {\n",
       "        text-align: right;\n",
       "    }\n",
       "</style>\n",
       "<table border=\"1\" class=\"dataframe\">\n",
       "  <thead>\n",
       "    <tr style=\"text-align: right;\">\n",
       "      <th>ISIN</th>\n",
       "      <th>LU0908500753</th>\n",
       "      <th>LU1959429272</th>\n",
       "    </tr>\n",
       "    <tr>\n",
       "      <th>date</th>\n",
       "      <th></th>\n",
       "      <th></th>\n",
       "    </tr>\n",
       "  </thead>\n",
       "  <tbody>\n",
       "    <tr>\n",
       "      <th>2020-03-18</th>\n",
       "      <td>NaN</td>\n",
       "      <td>NaN</td>\n",
       "    </tr>\n",
       "    <tr>\n",
       "      <th>2020-03-19</th>\n",
       "      <td>NaN</td>\n",
       "      <td>NaN</td>\n",
       "    </tr>\n",
       "    <tr>\n",
       "      <th>2020-03-20</th>\n",
       "      <td>NaN</td>\n",
       "      <td>NaN</td>\n",
       "    </tr>\n",
       "    <tr>\n",
       "      <th>2020-03-23</th>\n",
       "      <td>NaN</td>\n",
       "      <td>NaN</td>\n",
       "    </tr>\n",
       "    <tr>\n",
       "      <th>2020-03-24</th>\n",
       "      <td>NaN</td>\n",
       "      <td>NaN</td>\n",
       "    </tr>\n",
       "    <tr>\n",
       "      <th>2020-03-25</th>\n",
       "      <td>129.48</td>\n",
       "      <td>NaN</td>\n",
       "    </tr>\n",
       "    <tr>\n",
       "      <th>2020-03-26</th>\n",
       "      <td>131.82</td>\n",
       "      <td>NaN</td>\n",
       "    </tr>\n",
       "    <tr>\n",
       "      <th>2020-03-27</th>\n",
       "      <td>128.03</td>\n",
       "      <td>NaN</td>\n",
       "    </tr>\n",
       "    <tr>\n",
       "      <th>2020-03-30</th>\n",
       "      <td>129.67</td>\n",
       "      <td>NaN</td>\n",
       "    </tr>\n",
       "    <tr>\n",
       "      <th>2020-03-31</th>\n",
       "      <td>132.16</td>\n",
       "      <td>NaN</td>\n",
       "    </tr>\n",
       "    <tr>\n",
       "      <th>2020-04-01</th>\n",
       "      <td>127.77</td>\n",
       "      <td>NaN</td>\n",
       "    </tr>\n",
       "    <tr>\n",
       "      <th>2020-04-02</th>\n",
       "      <td>128.34</td>\n",
       "      <td>NaN</td>\n",
       "    </tr>\n",
       "    <tr>\n",
       "      <th>2020-04-03</th>\n",
       "      <td>127.34</td>\n",
       "      <td>NaN</td>\n",
       "    </tr>\n",
       "    <tr>\n",
       "      <th>2020-04-06</th>\n",
       "      <td>132.41</td>\n",
       "      <td>NaN</td>\n",
       "    </tr>\n",
       "    <tr>\n",
       "      <th>2020-04-07</th>\n",
       "      <td>134.61</td>\n",
       "      <td>NaN</td>\n",
       "    </tr>\n",
       "    <tr>\n",
       "      <th>2020-04-08</th>\n",
       "      <td>134.74</td>\n",
       "      <td>NaN</td>\n",
       "    </tr>\n",
       "    <tr>\n",
       "      <th>2020-04-09</th>\n",
       "      <td>136.40</td>\n",
       "      <td>NaN</td>\n",
       "    </tr>\n",
       "    <tr>\n",
       "      <th>2020-04-10</th>\n",
       "      <td>136.40</td>\n",
       "      <td>NaN</td>\n",
       "    </tr>\n",
       "  </tbody>\n",
       "</table>\n",
       "</div>"
      ],
      "text/plain": [
       "ISIN        LU0908500753  LU1959429272\n",
       "date                                  \n",
       "2020-03-18           NaN           NaN\n",
       "2020-03-19           NaN           NaN\n",
       "2020-03-20           NaN           NaN\n",
       "2020-03-23           NaN           NaN\n",
       "2020-03-24           NaN           NaN\n",
       "2020-03-25        129.48           NaN\n",
       "2020-03-26        131.82           NaN\n",
       "2020-03-27        128.03           NaN\n",
       "2020-03-30        129.67           NaN\n",
       "2020-03-31        132.16           NaN\n",
       "2020-04-01        127.77           NaN\n",
       "2020-04-02        128.34           NaN\n",
       "2020-04-03        127.34           NaN\n",
       "2020-04-06        132.41           NaN\n",
       "2020-04-07        134.61           NaN\n",
       "2020-04-08        134.74           NaN\n",
       "2020-04-09        136.40           NaN\n",
       "2020-04-10        136.40           NaN"
      ]
     },
     "execution_count": 1,
     "metadata": {},
     "output_type": "execute_result"
    }
   ],
   "source": [
    "# coding: utf-8\n",
    "import matplotlib.pyplot as plt\n",
    "\n",
    "import datetime\n",
    "import pandas as pd\n",
    "import quantstats as qs\n",
    "from pathlib import Path\n",
    "import degiro_wrapper as dw\n",
    "\n",
    "qs.extend_pandas()\n",
    "plt.style.use(\"ggplot\")\n",
    "\n",
    "CONFIG_DIR = \"/Users/mmngreco/github/mmngreco/degiro-wrapper/credentials\"\n",
    "ISIN_CASH = dw.conventions.ISIN_CASH\n",
    "\n",
    "user_data = dw.api_methods.get_login_data(config=CONFIG_DIR)\n",
    "path = Path(r\"./assets/\").expanduser().absolute()\n",
    "if not path.exists():\n",
    "    path.mkdir()\n",
    "\n",
    "date_start = \"20191001\"\n",
    "date_end = datetime.datetime.today()\n",
    "calendar = pd.date_range(start=date_start, end=date_end, freq=\"B\")\n",
    "\n",
    "# TODO : Add early stop to dowload only new files\n",
    "dw.api_methods.download_positions(\n",
    "    calendar=calendar,\n",
    "    path=path,\n",
    "    data=user_data,\n",
    "    filename_template=\"pos_%Y%m%d\",\n",
    ")\n",
    "\n",
    "# =============================================================================\n",
    "positions_raw_df = dw.preprocess.positions_xls_to_df(\n",
    "    path, isin_cash=ISIN_CASH\n",
    ")\n",
    "cleaned_data = dw.preprocess.positions_raw_to_clean(positions_raw_df)\n",
    "\n",
    "amount_df, prices_df, shares_df, nav_df, rets_df = cleaned_data\n",
    "prices_df"
   ]
  },
  {
   "cell_type": "code",
   "execution_count": 2,
   "metadata": {
    "extensions": {
     "jupyter_dashboards": {
      "version": 1,
      "views": {
       "grid_default": {},
       "report_default": {
        "hidden": false
       }
      }
     }
    }
   },
   "outputs": [
    {
     "data": {
      "image/png": "[encoded data removed]",
      "text/plain": [
       "<Figure size 432x288 with 1 Axes>"
      ]
     },
     "metadata": {},
     "output_type": "display_data"
    }
   ],
   "source": [
    "# =============================================================================\n",
    "# Cashflows\n",
    "\n",
    "path_account = dw.api_methods.download_cashflows(\n",
    "    user_data, date_start, date_end, path\n",
    ")\n",
    "cashflows_df, cashflows_external_df = dw.preprocess.generate_cashflows(\n",
    "    path_account=path_account, isin_cash=ISIN_CASH\n",
    ")\n",
    "\n",
    "# ??? : What means ss and why the following is needed\n",
    "cashflows_ss = cashflows_df.drop(columns=ISIN_CASH).sum(axis=1)\n",
    "cashflows_total_ss = (\n",
    "    cashflows_external_df.set_index(\"date\")[\"amount\"]\n",
    "    .reindex(cashflows_ss.index, fill_value=0.0)\n",
    "    .add(cashflows_ss)\n",
    ")\n",
    "\n",
    "# =============================================================================\n",
    "# ### Compute cash returns\n",
    "\n",
    "cash_calendar = cashflows_total_ss.index\n",
    "for today, yesterday in zip(cash_calendar[1:], cash_calendar):\n",
    "    cash_today = amount_df.loc[today, ISIN_CASH]\n",
    "    cash_yesterday = amount_df.loc[yesterday, ISIN_CASH]\n",
    "\n",
    "    flows = cashflows_total_ss.loc[today]\n",
    "\n",
    "    rets_df.loc[today, ISIN_CASH] = (cash_today - flows) / cash_yesterday - 1\n",
    "\n",
    "# =============================================================================\n",
    "# Compute performance\n",
    "\n",
    "weights_df = amount_df.div(amount_df.sum(axis=1), axis=\"index\").shift(1)\n",
    "weights_df = weights_df.rename(columns={ISIN_CASH: \"Cash\"})\n",
    "\n",
    "rets_df.plot();"
   ]
  },
  {
   "cell_type": "code",
   "execution_count": 3,
   "metadata": {
    "extensions": {
     "jupyter_dashboards": {
      "version": 1,
      "views": {
       "grid_default": {},
       "report_default": {
        "hidden": false
       }
      }
     }
    }
   },
   "outputs": [
    {
     "data": {
      "image/png": "[encoded data removed]",
      "text/plain": [
       "<Figure size 432x288 with 1 Axes>"
      ]
     },
     "metadata": {},
     "output_type": "display_data"
    }
   ],
   "source": [
    "weights_df.plot.area(title=\"Weights\");"
   ]
  },
  {
   "cell_type": "code",
   "execution_count": 4,
   "metadata": {
    "extensions": {
     "jupyter_dashboards": {
      "version": 1,
      "views": {
       "grid_default": {},
       "report_default": {
        "hidden": false
       }
      }
     }
    }
   },
   "outputs": [
    {
     "data": {
      "image/png": "[encoded data removed]",
      "text/plain": [
       "<Figure size 432x288 with 1 Axes>"
      ]
     },
     "metadata": {},
     "output_type": "display_data"
    }
   ],
   "source": [
    "weights_df.tail(1).T[weights_df.index[-1]].plot.pie();\n",
    "\n",
    "pf_returns_ss = (rets_df * weights_df).dropna(how=\"all\").sum(axis=1)\n",
    "pf_equity_ss = pf_returns_ss.add(1).cumprod().sub(1)\n",
    "# qs.reports.full(returns=pf_returns_ss, benchmark=\"^IBEX\")"
   ]
  },
  {
   "cell_type": "code",
   "execution_count": null,
   "metadata": {
    "extensions": {
     "jupyter_dashboards": {
      "version": 1,
      "views": {
       "grid_default": {},
       "report_default": {
        "hidden": true
       }
      }
     }
    }
   },
   "outputs": [],
   "source": []
  }
 ],
 "metadata": {
  "extensions": {
   "jupyter_dashboards": {
    "activeView": "grid_default",
    "version": 1,
    "views": {
     "grid_default": {
      "cellMargin": 10,
      "defaultCellHeight": 20,
      "maxColumns": 12,
      "name": "grid",
      "type": "grid"
     },
     "report_default": {
      "name": "report",
      "type": "report"
     }
    }
   }
  },
  "kernelspec": {
   "display_name": "Python 3",
   "language": "python",
   "name": "python3"
  },
  "language_info": {
   "codemirror_mode": {
    "name": "ipython",
    "version": 3
   },
   "file_extension": ".py",
   "mimetype": "text/x-python",
   "name": "python",
   "nbconvert_exporter": "python",
   "pygments_lexer": "ipython3",
   "version": "3.6.10"
  }
 },
 "nbformat": 4,
 "nbformat_minor": 4
}
