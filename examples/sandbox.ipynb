{
 "cells": [
  {
   "cell_type": "code",
   "execution_count": null,
   "metadata": {
    "extensions": {
     "jupyter_dashboards": {
      "version": 1,
      "views": {
       "grid_default": {},
       "report_default": {
        "hidden": false
       }
      }
     }
    }
   },
   "outputs": [],
   "source": [
    "# coding: utf-8\n",
    "import matplotlib.pyplot as plt\n",
    "\n",
    "import datetime\n",
    "import pandas as pd\n",
    "from pathlib import Path\n",
    "import degiro_wrapper as dw\n",
    "import logging\n",
    "\n",
    "plt.ion()\n",
    "\n",
    "logging.info(\"Reading config.\")\n",
    "\n",
    "CONFIG_DIR = \"/Users/mmngreco/github/mmngreco/degiro-wrapper/degiro.ini\"\n",
    "CONFIG_SECTION = \"DEGIRO\"\n",
    "\n",
    "ISIN_CASH = dw.conventions.ISIN_CASH\n",
    "\n",
    "config = dw.api_methods.get_config(CONFIG_DIR)\n",
    "user_data = dw.api_methods.get_login_data(config=config)\n",
    "\n",
    "path = Path(config[CONFIG_SECTION][\"files_dir\"]).expanduser().absolute()\n",
    "if not path.exists():\n",
    "    path.mkdir()\n",
    "\n",
    "date_start = \"20191001\"\n",
    "date_end = datetime.datetime.today()\n",
    "calendar = pd.date_range(start=date_start, end=date_end, freq=\"B\")\n",
    "\n",
    "logging.info(\"Downloading data\")\n",
    "dw.api_methods.download_positions(\n",
    "    calendar=calendar,\n",
    "    path=path,\n",
    "    data=user_data,\n",
    "    filename_template=\"pos_%Y%m%d\",\n",
    ")\n",
    "\n",
    "positions_raw_df = dw.preprocess.positions_xls_to_df(path, isin_cash=ISIN_CASH)\n",
    "cleaned_data = dw.preprocess.positions_raw_to_clean(positions_raw_df)\n",
    "\n",
    "amount_df = cleaned_data[\"amount\"]\n",
    "prices_df = cleaned_data[\"prices\"]\n",
    "shares_df = cleaned_data[\"shares\"]\n",
    "nav_df = cleaned_data[\"nav\"]\n",
    "rets_df = cleaned_data[\"returns\"]\n",
    "\n",
    "path_account = dw.api_methods.download_cashflows(user_data, date_start, date_end, path)\n",
    "cf = dw.preprocess.generate_cashflows(path_account=path_account, isin_cash=ISIN_CASH)\n",
    "cashflows_df = cf[\"cashflows\"]\n",
    "cashflows_external_df = cf[\"cashflows_external\"]\n",
    "\n",
    "# ??? : What means ss and why the following is needed\n",
    "cashflows_ss = cashflows_df.drop(columns=ISIN_CASH).sum(axis=1)\n",
    "cashflows_total_ss = (\n",
    "    cashflows_external_df.set_index(\"date\")[\"amount\"]\n",
    "    .reindex(cashflows_ss.index, fill_value=0.0)\n",
    "    .add(cashflows_ss)\n",
    ")\n",
    "\n",
    "cash_calendar = cashflows_total_ss.index\n",
    "for today, yesterday in zip(cash_calendar[1:], cash_calendar):\n",
    "    cash_today = amount_df.loc[today, ISIN_CASH]\n",
    "    cash_yesterday = amount_df.loc[yesterday, ISIN_CASH]\n",
    "\n",
    "    flows = cashflows_total_ss.loc[today]\n",
    "\n",
    "    rets_df.loc[today, ISIN_CASH] = (cash_today - flows) / cash_yesterday - 1\n",
    "\n",
    "\n",
    "logging.info(\"Compute performance\")\n",
    "\n",
    "weights_df = amount_df.div(amount_df.sum(axis=1), axis=\"index\").shift(1)\n",
    "weights_df = weights_df.rename(columns={ISIN_CASH: \"Cash\"})"
   ]
  },
  {
   "cell_type": "code",
   "execution_count": null,
   "metadata": {
    "extensions": {
     "jupyter_dashboards": {
      "version": 1,
      "views": {
       "grid_default": {},
       "report_default": {
        "hidden": false
       }
      }
     }
    }
   },
   "outputs": [],
   "source": [
    "weights_df.plot.area(title=\"Weights\")"
   ]
  },
  {
   "cell_type": "code",
   "execution_count": null,
   "metadata": {
    "extensions": {
     "jupyter_dashboards": {
      "version": 1,
      "views": {
       "grid_default": {},
       "report_default": {
        "hidden": false
       }
      }
     }
    }
   },
   "outputs": [],
   "source": [
    "weights_df.tail(1).T[weights_df.index[-1]].plot.pie();"
   ]
  },
  {
   "cell_type": "code",
   "execution_count": null,
   "metadata": {
    "extensions": {
     "jupyter_dashboards": {
      "version": 1,
      "views": {
       "grid_default": {},
       "report_default": {
        "hidden": false
       }
      }
     }
    }
   },
   "outputs": [],
   "source": [
    "pf_returns_ss = (rets_df * weights_df).dropna(how=\"all\").sum(axis=1)\n",
    "pf_returns_ss.plot();"
   ]
  },
  {
   "cell_type": "code",
   "execution_count": null,
   "metadata": {
    "extensions": {
     "jupyter_dashboards": {
      "version": 1,
      "views": {
       "grid_default": {},
       "report_default": {
        "hidden": true
       }
      }
     }
    },
    "lines_to_next_cell": 0
   },
   "outputs": [],
   "source": [
    "pf_equity_ss = pf_returns_ss.add(1).cumprod().sub(1)\n",
    "pf_equity_ss.plot();"
   ]
  },
  {
   "cell_type": "code",
   "execution_count": null,
   "metadata": {
    "lines_to_next_cell": 2
   },
   "outputs": [],
   "source": []
  }
 ],
 "metadata": {
  "jupytext": {
   "formats": "py,ipynb,md"
  },
  "kernelspec": {
   "display_name": "Python 3",
   "language": "python",
   "name": "python3"
  }
 },
 "nbformat": 4,
 "nbformat_minor": 4
}
