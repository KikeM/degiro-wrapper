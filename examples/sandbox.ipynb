{
 "cells": [
  {
   "cell_type": "markdown",
   "metadata": {},
   "source": [
    "1. Imports.\n",
    "1. Locate configuration file.\n",
    "1. Retrieve logging data.\n",
    "1. Download/update positions.\n",
    "1. From xls files to dataframe.\n",
    "1. Compute cleaned dataframes. \n",
    "1. Compute cash returns to allow matrix-like products. \n",
    "8. Compute performance."
   ]
  },
  {
   "cell_type": "code",
   "execution_count": 7,
   "metadata": {},
   "outputs": [],
   "source": [
    "# coding: utf-8\n",
    "import datetime\n",
    "import pandas as pd\n",
    "from pathlib import Path\n",
    "import degiro_wrapper as dw\n",
    "from degiro_wrapper.legacy import api_methods\n",
    "from degiro_wrapper.legacy import preprocess\n",
    "import logging\n",
    "\n",
    "logging.info(\"Reading config.\")\n",
    "\n",
    "CONFIG_DIR = \"~/degiro-wrapper/degiro.ini\"\n",
    "CONFIG_SECTION = \"DEGIRO\"\n",
    "\n",
    "config = api_methods.get_config(CONFIG_DIR)\n",
    "user_data = api_methods.get_login_data(config=config)\n",
    "\n",
    "path = Path(config[CONFIG_SECTION][\"files_dir\"]).expanduser().absolute()\n",
    "if not path.exists():\n",
    "    path.mkdir()\n",
    "\n",
    "date_start = \"20191001\"\n",
    "date_end = datetime.datetime.today()\n",
    "calendar = pd.date_range(start=date_start, end=date_end, freq=\"B\")\n",
    "\n",
    "logging.info(\"Downloading data\")\n",
    "api_methods.download_positions(\n",
    "    calendar=calendar,\n",
    "    path=path,\n",
    "    data=user_data,\n",
    "    filename_template=\"pos_%Y%m%d\",\n",
    ")\n",
    "\n",
    "ISIN_CASH = dw.conventions.ISIN_CASH\n",
    "\n",
    "positions_raw_df = preprocess.positions_xls_to_df(path, isin_cash=ISIN_CASH)\n",
    "\n",
    "cleaned_data = preprocess.positions_raw_to_clean(positions_raw_df)\n",
    "\n",
    "amount_df = cleaned_data[\"amount\"]\n",
    "prices_df = cleaned_data[\"prices\"]\n",
    "shares_df = cleaned_data[\"shares\"]\n",
    "nav_df = cleaned_data[\"nav\"]\n",
    "rets_df = cleaned_data[\"returns\"]\n",
    "\n",
    "path_account = api_methods.download_cashflows(user_data, date_start, date_end, path)\n",
    "\n",
    "cf = preprocess.generate_cashflows(path_account=path_account, isin_cash=ISIN_CASH)\n",
    "cashflows_df = cf[\"cashflows\"]\n",
    "cashflows_external_df = cf[\"cashflows_external\"]\n",
    "\n",
    "# ??? : What means ss and why the following is needed\n",
    "cashflows_ss = cashflows_df.drop(columns=ISIN_CASH).sum(axis=1)\n",
    "cashflows_total_ss = (\n",
    "    cashflows_external_df.set_index(\"date\")[\"amount\"]\n",
    "    .reindex(cashflows_ss.index, fill_value=0.0)\n",
    "    .add(cashflows_ss)\n",
    ")\n",
    "\n",
    "cash_calendar = cashflows_total_ss.index\n",
    "for today, yesterday in zip(cash_calendar[1:], cash_calendar):\n",
    "    \n",
    "    cash_today = amount_df.loc[today, ISIN_CASH]\n",
    "    \n",
    "    cash_yesterday = amount_df.loc[yesterday, ISIN_CASH]\n",
    "\n",
    "    flows = cashflows_total_ss.loc[today]\n",
    "\n",
    "    rets_df.loc[today, ISIN_CASH] = (cash_today - flows) / cash_yesterday - 1\n",
    "\n",
    "logging.info(\"Compute performance\")\n",
    "\n",
    "weights_df = amount_df.div(amount_df.sum(axis=1), axis=\"index\").shift(1)\n",
    "weights_df = weights_df.rename(columns={ISIN_CASH: \"Cash\"})\n",
    "weights_df.index.name = \"Date\"\n",
    "\n",
    "pf_returns_ss = (rets_df * weights_df).dropna(how=\"all\").sum(axis=1)\n",
    "pf_equity_ss = pf_returns_ss.add(1).cumprod().sub(1)\n",
    "pf_equity_ss.index.name = \"Date\"\n",
    "\n",
    "pf_equity_ss.to_clipboard()\n"
   ]
  },
  {
   "cell_type": "code",
   "execution_count": null,
   "metadata": {},
   "outputs": [],
   "source": []
  }
 ],
 "metadata": {
  "anaconda-cloud": {},
  "jupytext": {
   "formats": "py,ipynb,md"
  },
  "kernelspec": {
   "display_name": "Python 3",
   "language": "python",
   "name": "python3"
  },
  "language_info": {
   "codemirror_mode": {
    "name": "ipython",
    "version": 3
   },
   "file_extension": ".py",
   "mimetype": "text/x-python",
   "name": "python",
   "nbconvert_exporter": "python",
   "pygments_lexer": "ipython3",
   "version": "3.7.7"
  },
  "latex_envs": {
   "LaTeX_envs_menu_present": true,
   "autoclose": false,
   "autocomplete": true,
   "bibliofile": "biblio.bib",
   "cite_by": "apalike",
   "current_citInitial": 1,
   "eqLabelWithNumbers": true,
   "eqNumInitial": 1,
   "hotkeys": {
    "equation": "Ctrl-E",
    "itemize": "Ctrl-I"
   },
   "labels_anchors": false,
   "latex_user_defs": false,
   "report_style_numbering": false,
   "user_envs_cfg": false
  },
  "toc": {
   "base_numbering": 1,
   "nav_menu": {},
   "number_sections": true,
   "sideBar": true,
   "skip_h1_title": false,
   "title_cell": "Table of Contents",
   "title_sidebar": "Contents",
   "toc_cell": false,
   "toc_position": {},
   "toc_section_display": true,
   "toc_window_display": false
  },
  "varInspector": {
   "cols": {
    "lenName": 16,
    "lenType": 16,
    "lenVar": 40
   },
   "kernels_config": {
    "python": {
     "delete_cmd_postfix": "",
     "delete_cmd_prefix": "del ",
     "library": "var_list.py",
     "varRefreshCmd": "print(var_dic_list())"
    },
    "r": {
     "delete_cmd_postfix": ") ",
     "delete_cmd_prefix": "rm(",
     "library": "var_list.r",
     "varRefreshCmd": "cat(var_dic_list()) "
    }
   },
   "types_to_exclude": [
    "module",
    "function",
    "builtin_function_or_method",
    "instance",
    "_Feature"
   ],
   "window_display": false
  }
 },
 "nbformat": 4,
 "nbformat_minor": 4
}
