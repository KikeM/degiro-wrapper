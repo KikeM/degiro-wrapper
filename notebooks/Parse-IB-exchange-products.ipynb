{
 "cells": [
  {
   "cell_type": "code",
   "execution_count": 1,
   "metadata": {},
   "outputs": [],
   "source": [
    "%load_ext autoreload\n",
    "%autoreload 2"
   ]
  },
  {
   "cell_type": "code",
   "execution_count": 1,
   "metadata": {},
   "outputs": [],
   "source": [
    "import pandas as pd\n",
    "from tqdm import tqdm as tqdm\n",
    "from IPython.display import clear_output\n",
    "\n",
    "from model import parse_table, url_to_tree"
   ]
  },
  {
   "cell_type": "code",
   "execution_count": 2,
   "metadata": {},
   "outputs": [],
   "source": [
    "exchanges = [('sbf', 'Euronext France'), \n",
    "            ('chixde', 'CHI-X Europe Ltd Clearstream'),\n",
    "            ('fwb', 'Frankfurt Stock Exchange'),\n",
    "            ('swb', 'Stuttgart Stock Exchange'), \n",
    "            ('ibis', 'XETRA'), \n",
    "            ('chixen', 'CHI-X Europe Lts Clearnet'), \n",
    "            ('aeb', 'Euronext NL Stocks'), \n",
    "            ('bm', 'Bolsa de Madrid'), \n",
    "            ('sfb', 'Swedish Stock Exchange'), \n",
    "            ('ebs', 'SIX Swiss Exchange'),\n",
    "            ('chixuk', 'CHI-X Europe Ltd Crest'),\n",
    "            ('lse', 'London Stock Exchange'), \n",
    "            ('lseetf', 'London Stock ETF Exchange')]"
   ]
  },
  {
   "cell_type": "code",
   "execution_count": 3,
   "metadata": {},
   "outputs": [],
   "source": [
    "xpaths = dict()\n",
    "\n",
    "xpaths[\"symbolIB\"]      = '//*[@id=\"exchange-products\"]/div/div/div[3]/div/div/div/table/tbody/tr[{row}]/td[1]'\n",
    "xpaths[\"name\"]          = '//*[@id=\"exchange-products\"]/div/div/div[3]/div/div/div/table/tbody/tr[{row}]/td[2]/a'\n",
    "xpaths[\"symbolTrading\"] = '//*[@id=\"exchange-products\"]/div/div/div[3]/div/div/div/table/tbody/tr[{row}]/td[3]'\n",
    "xpaths[\"currency\"]      = '//*[@id=\"exchange-products\"]/div/div/div[3]/div/div/div/table/tbody/tr[{row}]/td[4]'"
   ]
  },
  {
   "cell_type": "code",
   "execution_count": 11,
   "metadata": {},
   "outputs": [],
   "source": [
    "url  = \"https://www.interactivebrokers.com/en/index.php?\"\n",
    "url += \"f=2222&exch={exchange}&showcategories=ETF&p=&cc=&limit=100&page={page}\""
   ]
  },
  {
   "cell_type": "code",
   "execution_count": 13,
   "metadata": {},
   "outputs": [
    {
     "name": "stderr",
     "output_type": "stream",
     "text": [
      "100%|██████████| 13/13 [04:20<00:00, 20.06s/it]\n"
     ]
    }
   ],
   "source": [
    "# Add exchange\n",
    "products = []\n",
    "\n",
    "# Collect exchange products\n",
    "for exchange, _ in tqdm(exchanges):\n",
    "        \n",
    "    products_exchange = []\n",
    "    \n",
    "    # Collect page products\n",
    "    for page in tqdm(range(1, 100), leave = False):\n",
    "\n",
    "        # Add page tag\n",
    "        _url_page = url.format(exchange=exchange, page = page)\n",
    "\n",
    "        # Get tree\n",
    "        tree = url_to_tree(_url_page)\n",
    "\n",
    "        # Parse table\n",
    "        products_page = parse_table(tree, xpaths)\n",
    "\n",
    "        # If no products, this was the last page\n",
    "        if len(products_page) == 0:\n",
    "            break\n",
    "\n",
    "        # Add page products to exchange products\n",
    "        products_exchange.extend(products_page)\n",
    "\n",
    "    # Add products with their exchange referenced\n",
    "    for row in products_exchange:\n",
    "\n",
    "        products.append(row + (exchange,))\n",
    "        \n",
    "    clear_output()"
   ]
  },
  {
   "cell_type": "code",
   "execution_count": 17,
   "metadata": {},
   "outputs": [],
   "source": [
    "products_df = pd.DataFrame(data = products, \n",
    "                           columns = ['name', 'currency', 'symbolIB', 'symbolTrading', 'exchange'])"
   ]
  },
  {
   "cell_type": "code",
   "execution_count": null,
   "metadata": {},
   "outputs": [],
   "source": []
  }
 ],
 "metadata": {
  "jupytext": {
   "formats": "ipynb,py:percent"
  },
  "kernelspec": {
   "display_name": "Python 3",
   "language": "python",
   "name": "python3"
  },
  "language_info": {
   "codemirror_mode": {
    "name": "ipython",
    "version": 3
   },
   "file_extension": ".py",
   "mimetype": "text/x-python",
   "name": "python",
   "nbconvert_exporter": "python",
   "pygments_lexer": "ipython3",
   "version": "3.6.10"
  },
  "latex_envs": {
   "LaTeX_envs_menu_present": true,
   "autoclose": false,
   "autocomplete": true,
   "bibliofile": "biblio.bib",
   "cite_by": "apalike",
   "current_citInitial": 1,
   "eqLabelWithNumbers": true,
   "eqNumInitial": 1,
   "hotkeys": {
    "equation": "Ctrl-E",
    "itemize": "Ctrl-I"
   },
   "labels_anchors": false,
   "latex_user_defs": false,
   "report_style_numbering": false,
   "user_envs_cfg": false
  },
  "toc": {
   "base_numbering": 1,
   "nav_menu": {},
   "number_sections": true,
   "sideBar": true,
   "skip_h1_title": false,
   "title_cell": "Table of Contents",
   "title_sidebar": "Contents",
   "toc_cell": false,
   "toc_position": {},
   "toc_section_display": true,
   "toc_window_display": false
  },
  "varInspector": {
   "cols": {
    "lenName": 16,
    "lenType": 16,
    "lenVar": 40
   },
   "kernels_config": {
    "python": {
     "delete_cmd_postfix": "",
     "delete_cmd_prefix": "del ",
     "library": "var_list.py",
     "varRefreshCmd": "print(var_dic_list())"
    },
    "r": {
     "delete_cmd_postfix": ") ",
     "delete_cmd_prefix": "rm(",
     "library": "var_list.r",
     "varRefreshCmd": "cat(var_dic_list()) "
    }
   },
   "types_to_exclude": [
    "module",
    "function",
    "builtin_function_or_method",
    "instance",
    "_Feature"
   ],
   "window_display": false
  }
 },
 "nbformat": 4,
 "nbformat_minor": 4
}
