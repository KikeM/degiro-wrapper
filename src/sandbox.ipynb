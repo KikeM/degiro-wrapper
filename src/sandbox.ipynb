{
 "cells": [
  {
   "cell_type": "code",
   "execution_count": null,
   "metadata": {},
   "outputs": [],
   "source": [
    "%load_ext autoreload\n",
    "%autoreload 2"
   ]
  },
  {
   "cell_type": "markdown",
   "metadata": {},
   "source": [
    "# Imports"
   ]
  },
  {
   "cell_type": "code",
   "execution_count": null,
   "metadata": {},
   "outputs": [],
   "source": [
    "import json\n",
    "\n",
    "import numpy as np\n",
    "import pandas as pd\n",
    "import quantstats as qs\n",
    "\n",
    "from pathlib import Path\n",
    "\n",
    "from tqdm import tqdm as tqdm\n",
    "import matplotlib.pyplot as plt\n",
    "\n",
    "from api_endpoints import url_account, url_positions\n",
    "from api_methods import get_login_data, download_positions"
   ]
  },
  {
   "cell_type": "code",
   "execution_count": null,
   "metadata": {},
   "outputs": [],
   "source": [
    "qs.extend_pandas()\n",
    "\n",
    "plt.style.use('ggplot')\n",
    "%matplotlib inline"
   ]
  },
  {
   "cell_type": "markdown",
   "metadata": {},
   "source": [
    "# Data"
   ]
  },
  {
   "cell_type": "code",
   "execution_count": null,
   "metadata": {},
   "outputs": [],
   "source": [
    "user_data = get_login_data()"
   ]
  },
  {
   "cell_type": "code",
   "execution_count": null,
   "metadata": {},
   "outputs": [],
   "source": [
    "date_start = '20191204'\n",
    "date_end   = '20191215'"
   ]
  },
  {
   "cell_type": "code",
   "execution_count": null,
   "metadata": {},
   "outputs": [],
   "source": [
    "path = Path(r'')"
   ]
  },
  {
   "cell_type": "markdown",
   "metadata": {},
   "source": [
    "Descargamos el excel con la composición del portfolio de cada día laborable:"
   ]
  },
  {
   "cell_type": "code",
   "execution_count": null,
   "metadata": {},
   "outputs": [],
   "source": [
    "calendar = pd.date_range(start = date_start, end = date_end, freq = 'B')"
   ]
  },
  {
   "cell_type": "code",
   "execution_count": null,
   "metadata": {},
   "outputs": [],
   "source": [
    "download_positions(calendar          = calendar, \n",
    "                   path              = path, \n",
    "                   data              = user_data,\n",
    "                   filename_template = 'pos_%Y%m%d')"
   ]
  },
  {
   "cell_type": "markdown",
   "metadata": {},
   "source": [
    "## Parse the Excel files and clean output"
   ]
  },
  {
   "cell_type": "markdown",
   "metadata": {},
   "source": [
    "Una vez descargados los excel con el portfolio de cada dia, los cargamos en un DataFrame:"
   ]
  },
  {
   "cell_type": "code",
   "execution_count": null,
   "metadata": {},
   "outputs": [],
   "source": [
    "columnas = ['Fecha','Producto','Symbol/ISIN','Cantidad','Precio de ','Valor local','Valor en EUR']\n",
    "\n",
    "df = pd.DataFrame(columns=columnas)\n",
    "\n",
    "for file in path.glob('pos*.xls'):\n",
    "    \n",
    "    # Read file\n",
    "    df_day = pd.read_excel(file)\n",
    "    \n",
    "    # Get positions date\n",
    "    df_day['Fecha'] = file.stem.split('_')[-1]\n",
    "    \n",
    "    # Append to dataframe\n",
    "    df = df.append(df_day, sort=False)\n",
    "    \n",
    "df['Fecha'] = pd.to_datetime(df['Fecha'])\n",
    "\n",
    "df = df.reset_index(drop=True)\n",
    "\n",
    "map_columnas = {'Fecha':'date','Producto':'product',\n",
    "                'Symbol/ISIN':'ISIN','Cantidad':'shares','Precio de ':'price',\n",
    "                'Valor local':'amount_to_drop','Valor en EUR':'amount'}\n",
    "\n",
    "df = df.rename(columns = map_columnas)\n",
    "df = df.drop(columns='amount_to_drop')"
   ]
  },
  {
   "cell_type": "markdown",
   "metadata": {},
   "source": [
    "### Check for cash position"
   ]
  },
  {
   "cell_type": "code",
   "execution_count": null,
   "metadata": {},
   "outputs": [],
   "source": [
    "mask_has_isin = df['ISIN'].notna()\n",
    "\n",
    "df.loc[mask_has_isin, 'type'] = 'long'\n",
    "df.loc[~mask_has_isin, 'type'] = 'cash'"
   ]
  },
  {
   "cell_type": "markdown",
   "metadata": {},
   "source": [
    "#### Compute shares, with cash price equal to one."
   ]
  },
  {
   "cell_type": "code",
   "execution_count": null,
   "metadata": {},
   "outputs": [],
   "source": [
    "df['price'] = df.loc[:, 'price'].fillna(1.0)\n",
    "\n",
    "df['shares'] = df['amount'] / df['price']"
   ]
  },
  {
   "cell_type": "code",
   "execution_count": null,
   "metadata": {},
   "outputs": [],
   "source": [
    "positions_raw_df = df.sort_values('date')\n",
    "\n",
    "positions_long_df = positions_raw_df.set_index(keys = ['type', 'date']).loc['long']\n",
    "positions_cash_df = positions_raw_df.set_index(keys = ['type', 'date']).loc['cash']\n",
    "\n",
    "positions_raw_df = positions_raw_df.set_index('date')"
   ]
  },
  {
   "cell_type": "code",
   "execution_count": null,
   "metadata": {},
   "outputs": [],
   "source": [
    "assets_value_ss = positions_raw_df.reset_index().groupby('date')['amount'].apply(np.sum)"
   ]
  },
  {
   "cell_type": "code",
   "execution_count": null,
   "metadata": {},
   "outputs": [],
   "source": [
    "returns = assets_value_ss.pct_change()"
   ]
  },
  {
   "cell_type": "code",
   "execution_count": null,
   "metadata": {},
   "outputs": [],
   "source": [
    "def from_positions_to_total_return(input_df, copy = True):\n",
    "    \"\"\"\n",
    "    Compute from positions DataFrame the portfolio's total return.\n",
    "    \n",
    "    Parameters\n",
    "    ----------\n",
    "    input_df: pd.DataFrame\n",
    "    \n",
    "    \n",
    "    Notes\n",
    "    -----\n",
    "    Includes cash as a position.\n",
    "    \"\"\"\n",
    "    if copy == True:\n",
    "        df = input_df.copy()\n",
    "    else:\n",
    "        df = input_df\n",
    "        \n",
    "    # Group by date all the assets\n",
    "    assets_value_ss = input_df.reset_index()\n",
    "    assets_value_ss = assets_value_ss.groupby('date')\n",
    "    \n",
    "    # Sum up the values in the 'amount' column\n",
    "    assets_value_ss = assets_value_ss['amount'].apply(np.sum)\n",
    "    \n",
    "    # Cumulative returns\n",
    "    total_return_ss = assets_value_ss.pct_change().fillna(0.0).add(1.0).cumprod().sub(1.0)\n",
    "    \n",
    "    return total_return_ss"
   ]
  },
  {
   "cell_type": "code",
   "execution_count": null,
   "metadata": {},
   "outputs": [],
   "source": [
    "assets_value_ss.plot()"
   ]
  },
  {
   "cell_type": "code",
   "execution_count": null,
   "metadata": {},
   "outputs": [],
   "source": [
    "from_positions_to_total_return(positions_raw_df).plot()"
   ]
  },
  {
   "cell_type": "markdown",
   "metadata": {},
   "source": [
    "Calculamos el NAV diario:"
   ]
  },
  {
   "cell_type": "code",
   "execution_count": null,
   "metadata": {},
   "outputs": [],
   "source": [
    "nav_daily = df.groupby('Fecha')['Valor en EUR'].sum()"
   ]
  },
  {
   "cell_type": "code",
   "execution_count": null,
   "metadata": {},
   "outputs": [],
   "source": [
    "nav_daily.plot()"
   ]
  },
  {
   "cell_type": "markdown",
   "metadata": {},
   "source": [
    "Descargamos todos los estado de cuenta (sobre todo nos interesan los ingresos y retiradas):"
   ]
  },
  {
   "cell_type": "code",
   "execution_count": null,
   "metadata": {},
   "outputs": [],
   "source": [
    "datetime_ini = datetime.strptime(date_ini, '%Y%m%d')\n",
    "datetime_fin = datetime.strptime(date_fin, '%Y%m%d')\n",
    "\n",
    "url_account_formated = url_account.format(int_account=intAccount, \n",
    "                                          session_id=sessionId, \n",
    "                                          day_i=datetime_ini.strftime('%d'), \n",
    "                                          month_i=datetime_ini.strftime('%m'), \n",
    "                                          year_i=datetime_ini.strftime('%Y'), \n",
    "                                          day_f=datetime_fin.strftime('%d'), \n",
    "                                          month_f=datetime_fin.strftime('%m'), \n",
    "                                          year_f=datetime_fin.strftime('%Y'))\n",
    "\n",
    "urllib.request.urlretrieve(url_account_formated, path / 'Account.xls')"
   ]
  },
  {
   "cell_type": "code",
   "execution_count": null,
   "metadata": {},
   "outputs": [],
   "source": [
    "df_account = pd.read_excel(path / 'Account.xls')\n",
    "df_account['Fecha'] = pd.to_datetime(df_account['Fecha'])\n",
    "df_account = df_account.rename(columns={'Variación':'curr_d', 'Unnamed: 8':'Dinero', 'Saldo':'curr_s', 'Unnamed: 10':'Saldo'})\n",
    "\n",
    "df_movs_cash = df_account.loc[df_account['Descripción'].isin(['Ingreso', 'Retirada']),]\n",
    "df_movs_cash"
   ]
  },
  {
   "cell_type": "code",
   "execution_count": null,
   "metadata": {},
   "outputs": [],
   "source": [
    "from pandas.tseries.offsets import BDay\n",
    "\n",
    "# Descontamos de los nav los ingresos, y le sumamos las retiradas\n",
    "# Menos el primer ingreso de todos (ultima fila del df_mov_cash) que lo tomaremos como capital inicial.\n",
    "flows = df_movs_cash.iloc[:-1, :]\n",
    "\n",
    "flows_cumulative = pd.Series(0, index=nav_daily.index)\n",
    "flows_cumulative.loc[flows['Fecha'] + BDay(0)] = flows['Dinero'].values * -1\n",
    "flows_cumulative = flows_cumulative.cumsum()\n",
    "\n",
    "nav_daily_con_flows = nav_daily + flows_cumulative\n",
    "\n",
    "# pd.concat([nav_daily, flows_cumulative, nav_daily_con_flows], axis=1)"
   ]
  },
  {
   "cell_type": "markdown",
   "metadata": {},
   "source": [
    "Generamos un reporte completo sobre la curva NAV de nuestra cuenta:"
   ]
  },
  {
   "cell_type": "code",
   "execution_count": null,
   "metadata": {},
   "outputs": [],
   "source": []
  },
  {
   "cell_type": "code",
   "execution_count": null,
   "metadata": {},
   "outputs": [],
   "source": [
    "nav_daily_period = nav_daily_con_flows  #.loc[:'2019-11-18']"
   ]
  },
  {
   "cell_type": "code",
   "execution_count": null,
   "metadata": {},
   "outputs": [],
   "source": [
    "%%javascript\n",
    "IPython.OutputArea.prototype._should_scroll = function(lines) {\n",
    "    return false;\n",
    "}"
   ]
  },
  {
   "cell_type": "code",
   "execution_count": null,
   "metadata": {},
   "outputs": [],
   "source": [
    "### benchmark can be equal to any ticker of yahoo finance (https://finance.yahoo.com/quote/__ticker__/)  ###\n",
    "\n",
    "# qs.reports.metrics(nav_daily_period, mode='basic', benchmark='^IBEX')  # shows basic/full metrics\n",
    "# qs.reports.plots(nav_daily_period, mode='full', benchmark='SPY')  # shows basic/full plots\n",
    "# qs.reports.basic(nav_daily_period, benchmark=None)  # shows basic metrics and plots\n",
    "qs.reports.full(nav_daily_period, benchmark='^IBEX')  # shows full metrics and plots\n",
    "# qs.reports.html(nav_daily_period, benchmark='^IBEX', output=path/'full_report.html')  # generates a complete report as html"
   ]
  },
  {
   "cell_type": "code",
   "execution_count": null,
   "metadata": {},
   "outputs": [],
   "source": []
  }
 ],
 "metadata": {
  "kernelspec": {
   "display_name": "trader",
   "language": "python",
   "name": "trader"
  },
  "language_info": {
   "codemirror_mode": {
    "name": "ipython",
    "version": 3
   },
   "file_extension": ".py",
   "mimetype": "text/x-python",
   "name": "python",
   "nbconvert_exporter": "python",
   "pygments_lexer": "ipython3",
   "version": "3.7.3"
  }
 },
 "nbformat": 4,
 "nbformat_minor": 4
}
